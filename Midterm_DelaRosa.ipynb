{
 "cells": [
  {
   "cell_type": "markdown",
   "id": "47d58f45",
   "metadata": {},
   "source": [
    "# # ANA 500 Midterm - Christian Dela Rosa"
   ]
  },
  {
   "cell_type": "markdown",
   "id": "5ec52f83",
   "metadata": {},
   "source": [
    "1.  Python is an open source, object-oriented scripting language that provides data scientists (or scientists in general) a more flexible application beyond such packages as SAS or Tableau to explore data (or other suitable scientific subjects).\n",
    "\n",
    "Since it's easy to learn and has wide and varied support, it's used is many different places to solve data science problems.  More specifically, as it allows coding, Python enables scientists to go beyond elementary queries and build subroutines, functions, and recursive elements.  Such programming power lends itself to machine learning and artificial intelligence in that Python not only will code for solutions to data analysis, but can be the vehicle for training and learning that it adapts from output errors and is able to vector those learnings back into the code as a feedback loop."
   ]
  },
  {
   "cell_type": "markdown",
   "id": "8cef3b82",
   "metadata": {},
   "source": [
    "2.  The Scientific Method is a disciplined, standardized way to approach solving observed problems or phenomena in the real world to generate a theoretical understanding of such problems or phenomena.\n",
    "\n",
    "- State Problem: provide the general problem statement.\n",
    "- Formulate Hypothesis: state a preliminary solution to the problem that will be proved or refuted by experimentation.\n",
    "- Design Experiment: create a way to test a real world problem or situation in a controlled environment where outcomes can be closely monitored and recorded.\n",
    "- Collect Data: record data as the experiment is run.\n",
    "- Analyze Data: find relationships, causes and effects, or explanations in the recorded data.\n",
    "- Draw Conclusion: determine whether the recorded and analyzed data support or refute the initially developed hypothesis(ses)."
   ]
  },
  {
   "cell_type": "markdown",
   "id": "119b298f",
   "metadata": {},
   "source": [
    "3.  Drawing much from the Scientific Method, a Data Science Project typically contains the following steps:\n",
    "\n",
    "- Problem Statement: as in #2 above, \"state the problem\".\n",
    "- Hypothesis Formulation: as in #2 above.\n",
    "    - Hierachy Chart: overall input/output diagram\n",
    "    - Flowchart: more detailed programming flow to determine support or refusal of the intially developed hypothesis(ses)\n",
    "    - Pseudocode: generalized code to further explain the coding that's subsequently developed\n",
    "- Acquire: import data collected or sampled.\n",
    "- Prepare: collate, and if necessary, clean and/or transform the collected data to faciliate preliminary visualization that will assist in the strategy for the analysis.\n",
    "- Report: develop conclusions and determine if original hypothesis(ses) are supported or refuted.\n",
    "- Act: take conclusions from report and execute change in the real life."
   ]
  },
  {
   "cell_type": "code",
   "execution_count": 1,
   "id": "c228f2a4",
   "metadata": {},
   "outputs": [
    {
     "name": "stdout",
     "output_type": "stream",
     "text": [
      "x = 2\n",
      "Value of 2 + 2 is 4\n",
      "x =\n",
      "5 x = 5\n"
     ]
    }
   ],
   "source": [
    "x = 2\n",
    "y = 3\n",
    "print('x =', x)\n",
    "print('Value of', x, '+', x, 'is', (x + x))\n",
    "print('x =')\n",
    "print((x + y), 'x =', (y + x))"
   ]
  },
  {
   "cell_type": "code",
   "execution_count": 5,
   "id": "4bffb8a9",
   "metadata": {},
   "outputs": [
    {
     "name": "stdout",
     "output_type": "stream",
     "text": [
      "Congratulations! Your grade of 91 earns you an A in this course.\n"
     ]
    }
   ],
   "source": [
    "grade = 91\n",
    "if grade >= 90:\n",
    "    print('Congratulations! Your grade of', grade, 'earns you an A in this course.')"
   ]
  },
  {
   "cell_type": "code",
   "execution_count": null,
   "id": "f4bfbdf6",
   "metadata": {},
   "outputs": [
    {
     "name": "stdout",
     "output_type": "stream",
     "text": [
      "What is your problem?\n"
     ]
    }
   ],
   "source": [
    "print('What is your problem?')\n",
    "problem = input()\n",
    "print('Have you had this problem before (yes or no)?')\n",
    "had_before = input()\n",
    "if had_before == 'yes':\n",
    "    print ('Well, you have it again.')\n",
    "elif had_before == 'no':\n",
    "    print ('Well, you have it now.')\n",
    "else:\n",
    "    print ('Please answer the question \"yes\" or \"no\"')"
   ]
  },
  {
   "cell_type": "markdown",
   "id": "13b2aeec",
   "metadata": {},
   "source": [
    "The preceeding code would indicate artificial intelligence to the user only if the user is sincere (i.e., not attempting to disprove artificial intelligence exists), and is allowed to execute the code once - with all responses encompassed by the script.  If the user is allowed to retake the test one or more times, and inputs probing responses - then the limitations of the coding will become apparent and expose the farce at AI the code really is."
   ]
  },
  {
   "cell_type": "code",
   "execution_count": null,
   "id": "f9cd23f9",
   "metadata": {},
   "outputs": [],
   "source": [
    "import numpy as np\n",
    "question7 = np.array([[0, 1], [2, 3]])\n",
    "print(question7)\n",
    "cube = question7 ** 3\n",
    "print(cube)\n",
    "add7 = question7 + 7\n",
    "print(add7)\n",
    "times2 = question7 * 2\n",
    "print(times2)"
   ]
  },
  {
   "cell_type": "code",
   "execution_count": 17,
   "id": "fa30e565",
   "metadata": {},
   "outputs": [
    {
     "name": "stdout",
     "output_type": "stream",
     "text": [
      "[[ 1  2  3  4  5]\n",
      " [ 6  7  8  9 10]\n",
      " [11 12 13 14 15]]\n",
      "[11 12 13 14 15]\n",
      "[ 5 10 15]\n",
      "[[ 1  2  3  4  5]\n",
      " [ 6  7  8  9 10]]\n",
      "[[ 2  3  4]\n",
      " [ 7  8  9]\n",
      " [12 13 14]]\n",
      "4\n",
      "[[ 1  3  5]\n",
      " [ 6  8 10]]\n"
     ]
    }
   ],
   "source": [
    "# Note: question b) and f) are contradictory: b) indexes 1-5,\n",
    "# while f) indexes 0-4\n",
    "\n",
    "import numpy as np\n",
    "question8 = np.arange(1, 16).reshape(3, 5)\n",
    "print(question8)\n",
    "row2 = question8[2]\n",
    "print(row2)\n",
    "# \"column 5\" is last column, refered to as \"4\" w/0:4 indexing\n",
    "column5 = question8[:,4]\n",
    "print(column5)\n",
    "rows0and1 = question8[0:2,:]\n",
    "print(rows0and1)\n",
    "columns2thru4 = question8[:,1:4]\n",
    "print(columns2thru4)\n",
    "element14 = question8[0,3]\n",
    "print(element14)\n",
    "# \"columns 0, 2 and 4\" assumed to be columns 1, 3 and 5 as previously indexed\n",
    "row12col024 = question8[:2,[0, 2, 4]]\n",
    "print(row12col024)"
   ]
  },
  {
   "cell_type": "code",
   "execution_count": 3,
   "id": "8d4e91e1",
   "metadata": {},
   "outputs": [
    {
     "name": "stdout",
     "output_type": "stream",
     "text": [
      "[9, 5, 4, 4, 9, 10, 3, 5, 5, 10, 9, 9, 1, 6, 7, 7, 7, 2, 6, 7, 3, 4, 9, 10, 7, 7, 5, 10, 4, 7, 4, 5, 9, 7, 2, 9, 3, 7, 6, 7, 9, 10, 5, 1, 10, 6, 7, 2, 7, 9]\n",
      "[[ 1  2]\n",
      " [ 2  3]\n",
      " [ 3  3]\n",
      " [ 4  5]\n",
      " [ 5  6]\n",
      " [ 6  4]\n",
      " [ 7 12]\n",
      " [ 9  9]\n",
      " [10  6]]\n"
     ]
    }
   ],
   "source": [
    "import random\n",
    "import numpy as np\n",
    "\n",
    "rand_list=[]\n",
    "n=50\n",
    "for i in range(n):\n",
    "    rand_list.append(random.randint(1,10))\n",
    "print(rand_list)\n",
    "\n",
    "unique, counts = np.unique(rand_list, return_counts=True)\n",
    "print(np.asarray((unique, counts)).T)"
   ]
  },
  {
   "cell_type": "code",
   "execution_count": 7,
   "id": "3a2103a8",
   "metadata": {},
   "outputs": [
    {
     "name": "stdout",
     "output_type": "stream",
     "text": [
      "[[1 3]\n",
      " [2 4]\n",
      " [3 8]\n",
      " [4 2]\n",
      " [5 3]]\n",
      "Minimum = 1\n",
      "Maximum = 5\n",
      "Range = 5\n",
      "Mean = 2.9\n",
      "Median = 3.0\n",
      "Mode = 3\n",
      "Variance = 1.568421052631579\n",
      "Standard Deviation = 1.2523661815266247\n"
     ]
    }
   ],
   "source": [
    "import numpy as np\n",
    "import statistics\n",
    "\n",
    "foodquality = [1, 2, 5, 4, 3, 5, 2, 1, 3, 3, 1, 4, 3, 3, 3, 2, 3, 3, 2, 5]\n",
    "unique, counts = np.unique(foodquality, return_counts=True)\n",
    "print(np.asarray((unique, counts)).T)\n",
    "\n",
    "print(\"Minimum =\",min(foodquality))\n",
    "print(\"Maximum =\",max(foodquality))\n",
    "print(\"Range =\",max(foodquality)-min(foodquality)+1)\n",
    "\n",
    "print(\"Mean =\",statistics.mean(foodquality))\n",
    "print(\"Median =\",statistics.median(foodquality))\n",
    "print(\"Mode =\",statistics.mode(foodquality))\n",
    "print(\"Variance =\",statistics.variance(foodquality))\n",
    "print(\"Standard Deviation =\",statistics.stdev(foodquality))"
   ]
  },
  {
   "cell_type": "code",
   "execution_count": 19,
   "id": "14ca2a30",
   "metadata": {},
   "outputs": [
    {
     "data": {
      "image/png": "[encoded data removed]",
      "text/plain": [
       "<Figure size 432x288 with 1 Axes>"
      ]
     },
     "metadata": {
      "needs_background": "light"
     },
     "output_type": "display_data"
    }
   ],
   "source": [
    "import numpy as np\n",
    "import matplotlib.pyplot as plt\n",
    "from matplotlib.ticker import PercentFormatter\n",
    "\n",
    "foodquality = [1, 2, 5, 4, 3, 5, 2, 1, 3, 3, 1, 4, 3, 3, 3, 2, 3, 3, 2, 5]\n",
    "\n",
    "plt.hist(foodquality, weights=np.ones(len(foodquality)) / len(foodquality))\n",
    "\n",
    "plt.gca().yaxis.set_major_formatter(PercentFormatter(1))\n",
    "plt.show()"
   ]
  },
  {
   "cell_type": "code",
   "execution_count": null,
   "id": "89ceabf5",
   "metadata": {},
   "outputs": [],
   "source": []
  }
 ],
 "metadata": {
  "kernelspec": {
   "display_name": "Python 3 (ipykernel)",
   "language": "python",
   "name": "python3"
  },
  "language_info": {
   "codemirror_mode": {
    "name": "ipython",
    "version": 3
   },
   "file_extension": ".py",
   "mimetype": "text/x-python",
   "name": "python",
   "nbconvert_exporter": "python",
   "pygments_lexer": "ipython3",
   "version": "3.9.7"
  }
 },
 "nbformat": 4,
 "nbformat_minor": 5
}
